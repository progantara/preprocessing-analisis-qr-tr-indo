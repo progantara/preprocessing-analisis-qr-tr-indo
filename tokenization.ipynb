{
 "cells": [
  {
   "cell_type": "code",
   "execution_count": null,
   "metadata": {},
   "outputs": [],
   "source": [
    "import sys"
   ]
  },
  {
   "cell_type": "code",
   "execution_count": 2,
   "metadata": {},
   "outputs": [],
   "source": [
    "# read file data/transcription_phoneme.txt\n",
    "file = 'data/raw_transcription_phonem7879.csv'\n",
    "with open(file, 'r') as f:\n",
    "    lines = f.readlines()\n",
    "\n",
    "# read all the lines and split | and \\n\n",
    "lines = [line.strip().split('|') for line in lines]\n",
    "\n",
    "chars = ''\n",
    "for line in lines:\n",
    "    chars += line[2]\n",
    "\n",
    "# distinct all possible phonemes\n",
    "chars = list(set(chars))\n"
   ]
  },
  {
   "cell_type": "code",
   "execution_count": 3,
   "metadata": {},
   "outputs": [
    {
     "name": "stdout",
     "output_type": "stream",
     "text": [
      "tljˤʒkʃθʔabnu: zwʕmqɣfrsxiðħdh\n"
     ]
    }
   ],
   "source": [
    "# convert array to string\n",
    "chars = ''.join(chars)\n",
    "print(chars)"
   ]
  }
 ],
 "metadata": {
  "kernelspec": {
   "display_name": "tf",
   "language": "python",
   "name": "python3"
  },
  "language_info": {
   "codemirror_mode": {
    "name": "ipython",
    "version": 3
   },
   "file_extension": ".py",
   "mimetype": "text/x-python",
   "name": "python",
   "nbconvert_exporter": "python",
   "pygments_lexer": "ipython3",
   "version": "3.9.19"
  }
 },
 "nbformat": 4,
 "nbformat_minor": 2
}
