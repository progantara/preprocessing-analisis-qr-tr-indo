{
 "cells": [
  {
   "cell_type": "code",
   "execution_count": 15,
   "metadata": {},
   "outputs": [],
   "source": [
    "import pandas as pd\n",
    "from sklearn.model_selection import train_test_split\n",
    "import os"
   ]
  },
  {
   "cell_type": "code",
   "execution_count": 28,
   "metadata": {},
   "outputs": [],
   "source": [
    "# Load the data\n",
    "path = 'data/transliterasi_id_juz_30_filter.csv'\n",
    "data = pd.read_csv(path, sep=\"|\", header=None, quoting=3) # filename|text|translit\n",
    "data.columns = ['filename', 'text', 'translit']\n",
    "\n",
    "# shuffle the data\n",
    "data = data.sample(frac=1, random_state=10000).reset_index(drop=True)\n",
    "\n",
    "# Splitting ratios\n",
    "train_ratio = 0.79\n",
    "validation_ratio = 0.10\n",
    "test_ratio = 0.11\n",
    "\n",
    "# Get the riciter\n",
    "riciters = data['filename'].str.split('_').str[1].unique()\n",
    "riciters = pd.DataFrame(riciters, columns=['riciter'])\n",
    "riciters['riciter_id'] = riciters.index\n",
    "\n",
    "# Map riciter to the data\n",
    "data['riciter'] = data['filename'].str.split('_').str[1]\n",
    "data = data.merge(riciters, on='riciter')\n",
    "\n",
    "# Group data by riciter_id and split\n",
    "grouped_data = data.groupby('riciter_id')\n",
    "\n",
    "train_data = pd.DataFrame()\n",
    "validation_data = pd.DataFrame()\n",
    "test_data = pd.DataFrame()\n",
    "\n",
    "for riciter_id, group in grouped_data:\n",
    "    train, temp = train_test_split(group, test_size=(validation_ratio + test_ratio), random_state=1000)\n",
    "    validation, test = train_test_split(temp, test_size=(test_ratio / (validation_ratio + test_ratio)), random_state=1000)\n",
    "    \n",
    "    train_data = pd.concat([train_data, train])\n",
    "    validation_data = pd.concat([validation_data, validation])\n",
    "    test_data = pd.concat([test_data, test])\n",
    "\n",
    "# Drop the riciter_id column\n",
    "train_data.drop(columns=['riciter_id'], inplace=True)\n",
    "validation_data.drop(columns=['riciter_id'], inplace=True)\n",
    "test_data.drop(columns=['riciter_id'], inplace=True)\n",
    "\n",
    "# Drop the riciter column\n",
    "train_data.drop(columns=['riciter'], inplace=True)\n",
    "validation_data.drop(columns=['riciter'], inplace=True)\n",
    "test_data.drop(columns=['riciter'], inplace=True)\n",
    "\n",
    "# Save the splits into separate CSV files\n",
    "train_data.to_csv('data/train.csv', sep='|', index=False, header=False)\n",
    "validation_data.to_csv('data/validation.csv', sep='|', index=False, header=False)\n",
    "test_data.to_csv('data/test.csv', sep='|', index=False, header=False)\n"
   ]
  }
 ],
 "metadata": {
  "kernelspec": {
   "display_name": "tf",
   "language": "python",
   "name": "python3"
  },
  "language_info": {
   "codemirror_mode": {
    "name": "ipython",
    "version": 3
   },
   "file_extension": ".py",
   "mimetype": "text/x-python",
   "name": "python",
   "nbconvert_exporter": "python",
   "pygments_lexer": "ipython3",
   "version": "3.9.19"
  }
 },
 "nbformat": 4,
 "nbformat_minor": 2
}
