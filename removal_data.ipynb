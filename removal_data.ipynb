{
 "cells": [
  {
   "cell_type": "code",
   "execution_count": 1,
   "metadata": {},
   "outputs": [],
   "source": [
    "import os\n",
    "import librosa"
   ]
  },
  {
   "cell_type": "code",
   "execution_count": 2,
   "metadata": {},
   "outputs": [],
   "source": [
    "path = 'data/audio'"
   ]
  },
  {
   "cell_type": "code",
   "execution_count": 3,
   "metadata": {},
   "outputs": [
    {
     "name": "stdout",
     "output_type": "stream",
     "text": [
      "109001_19.wav is accepted with duration 6.478367346938776\n",
      "109001_03.wav is accepted with duration 5.58984126984127\n",
      "109001_14.wav is accepted with duration 5.511836734693878\n",
      "109001_22.wav is accepted with duration 7.209795918367347\n",
      "109001_12.wav is accepted with duration 5.564081632653061\n",
      "109001_15.wav is accepted with duration 5.6420861678004535\n",
      "109001_24.wav is accepted with duration 5.198367346938776\n",
      "109001_27.wav is accepted with duration 7.1053061224489795\n",
      "109001_13.wav is accepted with duration 5.12\n",
      "109001_16.wav is accepted with duration 6.765714285714286\n",
      "109001_09.wav is accepted with duration 6.870204081632653\n",
      "109001_01.wav is accepted with duration 5.799183673469388\n",
      "109001_10.wav is accepted with duration 7.523265306122449\n"
     ]
    }
   ],
   "source": [
    "# get all files in data/audio folder and check the duration is less than 5s?\n",
    "surat = '109001'\n",
    "accepted_files = []\n",
    "rejected_files = []\n",
    "for file in os.listdir(path):\n",
    "    if file.endswith('.wav') and file.startswith(surat):\n",
    "        audio_path = os.path.join(path, file)\n",
    "        y, sr = librosa.load(audio_path)\n",
    "        duration = librosa.get_duration(y=y, sr=sr)\n",
    "        if duration > 5 and duration < 8:\n",
    "            print(f'{file} is accepted with duration {duration}')\n",
    "            accepted_files.append(file.split(\"_\")[1].split(\".\")[0])\n",
    "        else:\n",
    "            print(f'{file} is rejected with duration {duration}')\n",
    "            rejected_files.append(file.split(\"_\")[1].split(\".\")[0])"
   ]
  },
  {
   "cell_type": "code",
   "execution_count": 4,
   "metadata": {},
   "outputs": [
    {
     "data": {
      "text/plain": [
       "['19', '03', '14', '22', '12', '15', '24', '27', '13', '16', '09', '01', '10']"
      ]
     },
     "execution_count": 4,
     "metadata": {},
     "output_type": "execute_result"
    }
   ],
   "source": [
    "accepted_files"
   ]
  },
  {
   "cell_type": "code",
   "execution_count": 5,
   "metadata": {},
   "outputs": [],
   "source": [
    "# define non reciter remove\n",
    "id_riciters = ['08', '21'] + rejected_files\n",
    "\n",
    "for file in os.listdir(path):\n",
    "    if file.endswith('.wav') and file.split(\"_\")[1].split(\".\")[0] in id_riciters:\n",
    "        os.remove(os.path.join(path, file))\n",
    "        print(f'{file} removed')        \n",
    "    \n"
   ]
  },
  {
   "cell_type": "code",
   "execution_count": 6,
   "metadata": {},
   "outputs": [
    {
     "name": "stdout",
     "output_type": "stream",
     "text": [
      "2 removed\n",
      "4 removed\n",
      "5 removed\n",
      "6 removed\n",
      "7 removed\n",
      "8 removed\n",
      "11 removed\n",
      "17 removed\n",
      "18 removed\n",
      "20 removed\n",
      "21 removed\n",
      "23 removed\n",
      "25 removed\n",
      "26 removed\n",
      "28 removed\n",
      "29 removed\n",
      "30 removed\n"
     ]
    }
   ],
   "source": [
    "# removed files is number of files isnt in accepted files in range 1 untill 30\n",
    "removed_files = []\n",
    "for i in range(1, 31):\n",
    "    if \"{:02d}\".format(i) not in accepted_files:\n",
    "        removed_files.append(i)\n",
    "        print(f'{i} removed')"
   ]
  },
  {
   "cell_type": "code",
   "execution_count": 7,
   "metadata": {},
   "outputs": [
    {
     "data": {
      "text/plain": [
       "[2, 4, 5, 6, 7, 8, 11, 17, 18, 20, 21, 23, 25, 26, 28, 29, 30]"
      ]
     },
     "execution_count": 7,
     "metadata": {},
     "output_type": "execute_result"
    }
   ],
   "source": [
    "removed_files"
   ]
  },
  {
   "cell_type": "code",
   "execution_count": 9,
   "metadata": {},
   "outputs": [],
   "source": [
    "# Ganti 'path_to_file' dengan path yang sesuai di Google Colab\n",
    "path_to_file = 'raw_transcription_phonem.csv'\n",
    "\n",
    "# Membaca file teks baris per baris\n",
    "with open(path_to_file, 'r') as file:\n",
    "    lines = file.readlines()\n",
    "\n",
    "# Mengubah format ID\n",
    "new_lines = []\n",
    "for line in lines:\n",
    "    parts = line.split('|')\n",
    "    base_id = parts[0].strip('|') + parts[1].zfill(3)  # Menggabungkan ID dan menambahkan angka nol jika perlu\n",
    "\n",
    "    # Loop untuk menambahkan \"_0X\" dari 01 hingga 30, kecuali 08 dan 10\n",
    "    for i in range(1, 31):\n",
    "        if i in removed_files:\n",
    "            continue\n",
    "        new_id = base_id + \"_{:02d}\".format(i)\n",
    "        new_line = new_id + '|' + '|'.join(parts[2:])\n",
    "        new_lines.append(new_line)\n",
    "\n",
    "# Menambahkan karakter baris baru setelah baris terakhir\n",
    "new_lines[-1] += '\\n'\n",
    "\n",
    "# buat file \n",
    "new_file = \"transcription_phonem.csv\"\n",
    "with open(new_file, 'w') as file:\n",
    "    file.writelines(new_lines)"
   ]
  }
 ],
 "metadata": {
  "kernelspec": {
   "display_name": "tf",
   "language": "python",
   "name": "python3"
  },
  "language_info": {
   "codemirror_mode": {
    "name": "ipython",
    "version": 3
   },
   "file_extension": ".py",
   "mimetype": "text/x-python",
   "name": "python",
   "nbconvert_exporter": "python",
   "pygments_lexer": "ipython3",
   "version": "3.9.19"
  }
 },
 "nbformat": 4,
 "nbformat_minor": 2
}
